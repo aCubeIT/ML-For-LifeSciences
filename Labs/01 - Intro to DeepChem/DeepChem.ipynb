{
 "cells": [
  {
   "cell_type": "markdown",
   "metadata": {},
   "source": [
    "# Machine Learning with DeepChem"
   ]
  },
  {
   "cell_type": "markdown",
   "metadata": {},
   "source": [
    "The goal of this worksheet is to get familiar with DeepChem and comfortable with the type of exercises we will provide, and how they shall be marked.\n",
    "\n",
    "The emphasis here is also on learning to program with Python 3. Most steps of this workbook have code to test them - if you're passing these tests you should get most, if not all, of the marks."
   ]
  },
  {
   "cell_type": "markdown",
   "metadata": {},
   "source": [
    "## Marking and Submission\n",
    "\n",
    "These lab exercises are marked, and contribute to your final grade. This lab exercise has **FILL ME** marks to earn, equivalent to **FILL ME**% of your final grade. Most of the time where you have to add code is indicated by:\n",
    "\n",
    "`# **************************************************************** 2 marks`\n",
    "\n",
    "with instructions above the code block. Occasionally a markdown block will request that you return to an early block and edit it. There will be no indicator in such cases.\n",
    "\n",
    "Please submit your completed workbook using **FILL ME** before **FILL ME** on **FILL ME**. The workbook you submit must be an .ipynb file, which is saved into the directory you're running Jupyter; alternatively you can download it from the menu above using `File -> Download As -> Notebook (.ipynb)`. Remember to save your work regularly (`Save and checkpoint` in the `File` menu, the icon of a floppy disk, or `Ctrl-S`); the version you submit should have all code blocks showing the results (if any) of execution below them. You will normally receive feedback within a **FILL ME**."
   ]
  },
  {
   "cell_type": "markdown",
   "metadata": {},
   "source": [
    "---"
   ]
  },
  {
   "cell_type": "markdown",
   "metadata": {},
   "source": [
    "## Import"
   ]
  },
  {
   "cell_type": "code",
   "execution_count": 1,
   "metadata": {},
   "outputs": [],
   "source": [
    "import warnings\n",
    "warnings.filterwarnings('ignore')"
   ]
  },
  {
   "cell_type": "code",
   "execution_count": 2,
   "metadata": {
    "scrolled": false
   },
   "outputs": [
    {
     "name": "stderr",
     "output_type": "stream",
     "text": [
      "/usr/local/anaconda3/lib/python3.7/site-packages/sklearn/externals/joblib/__init__.py:15: DeprecationWarning: sklearn.externals.joblib is deprecated in 0.21 and will be removed in 0.23. Please import this functionality directly from joblib, which can be installed with: pip install joblib. If this warning is raised when loading pickled models, you may need to re-serialize those models with scikit-learn 0.21+.\n",
      "  warnings.warn(msg, category=DeprecationWarning)\n",
      "RDKit WARNING: [11:28:47] Enabling RDKit 2019.09.3 jupyter extensions\n"
     ]
    }
   ],
   "source": [
    "import numpy as np\n",
    "import deepchem as dc"
   ]
  },
  {
   "cell_type": "code",
   "execution_count": 3,
   "metadata": {},
   "outputs": [
    {
     "name": "stdout",
     "output_type": "stream",
     "text": [
      "Loading raw samples now.\n",
      "shard_size: 8192\n",
      "About to start loading CSV from /var/folders/tc/glv8wyj53p919jdn9hpdvjsm0000gn/T/tox21.csv.gz\n",
      "Loading shard 1 of size 8192.\n",
      "Featurizing sample 0\n"
     ]
    },
    {
     "name": "stderr",
     "output_type": "stream",
     "text": [
      "RDKit WARNING: [11:29:01] WARNING: not removing hydrogen atom without neighbors\n"
     ]
    },
    {
     "name": "stdout",
     "output_type": "stream",
     "text": [
      "Featurizing sample 1000\n",
      "Featurizing sample 2000\n",
      "Featurizing sample 3000\n",
      "Featurizing sample 4000\n",
      "Featurizing sample 5000\n",
      "Featurizing sample 6000\n",
      "Featurizing sample 7000\n",
      "TIMING: featurizing shard 0 took 17.550 s\n",
      "TIMING: dataset construction took 17.833 s\n",
      "Loading dataset from disk.\n",
      "TIMING: dataset construction took 0.369 s\n",
      "Loading dataset from disk.\n",
      "TIMING: dataset construction took 0.229 s\n",
      "Loading dataset from disk.\n",
      "TIMING: dataset construction took 0.311 s\n",
      "Loading dataset from disk.\n",
      "TIMING: dataset construction took 0.322 s\n",
      "Loading dataset from disk.\n",
      "TIMING: dataset construction took 0.051 s\n",
      "Loading dataset from disk.\n",
      "TIMING: dataset construction took 0.046 s\n",
      "Loading dataset from disk.\n"
     ]
    }
   ],
   "source": [
    "tox21_tasks, tox21_datasets, transformers = dc.molnet.load_tox21()"
   ]
  },
  {
   "cell_type": "markdown",
   "metadata": {},
   "source": [
    "The _enzymatic assay_ measures whether molecules bind with _biological target_. Each task in 12 ``tox21_tasks`` given below represents one such _assay_ target, each of which is supposedly linked to toxic responses to potential therapeutic molecules."
   ]
  },
  {
   "cell_type": "code",
   "execution_count": 4,
   "metadata": {},
   "outputs": [
    {
     "data": {
      "text/plain": [
       "['NR-AR',\n",
       " 'NR-AR-LBD',\n",
       " 'NR-AhR',\n",
       " 'NR-Aromatase',\n",
       " 'NR-ER',\n",
       " 'NR-ER-LBD',\n",
       " 'NR-PPAR-gamma',\n",
       " 'SR-ARE',\n",
       " 'SR-ATAD5',\n",
       " 'SR-HSE',\n",
       " 'SR-MMP',\n",
       " 'SR-p53']"
      ]
     },
     "execution_count": 4,
     "metadata": {},
     "output_type": "execute_result"
    }
   ],
   "source": [
    "tox21_tasks"
   ]
  },
  {
   "cell_type": "markdown",
   "metadata": {},
   "source": [
    "If your background isn't in biology, it might be easier to understand some of the terms with computer science analogies.\n",
    "\n",
    "You can imagine cells or animals as complex legacy codebases that one normally has no control over, however, you as an engineer have a few experimental measurements of these systems (assays) which you can use to gain some understanding of the underlying mechanics.\n",
    "\n",
    "Machine learning is an extraordinarily powerful tool for understanding biological systems, as algorithms are capable of autonomously extracting meaningful correlations, which allows even biology-beginners to sometimes find deep insights."
   ]
  },
  {
   "cell_type": "code",
   "execution_count": 5,
   "metadata": {
    "scrolled": true
   },
   "outputs": [
    {
     "data": {
      "text/plain": [
       "(<deepchem.data.datasets.DiskDataset at 0x1c4d7cdf90>,\n",
       " <deepchem.data.datasets.DiskDataset at 0x1c4d544810>,\n",
       " <deepchem.data.datasets.DiskDataset at 0x1c4e065050>)"
      ]
     },
     "execution_count": 5,
     "metadata": {},
     "output_type": "execute_result"
    }
   ],
   "source": [
    "tox21_datasets"
   ]
  },
  {
   "cell_type": "markdown",
   "metadata": {},
   "source": [
    "The `tox21_datasets` variable is actually a tuple, containing the training, validation, and testing data.\n",
    "\n",
    "We can extract it as following:"
   ]
  },
  {
   "cell_type": "code",
   "execution_count": 6,
   "metadata": {},
   "outputs": [],
   "source": [
    "train_dataset, valid_dataset, test_dataset = tox21_datasets"
   ]
  },
  {
   "cell_type": "code",
   "execution_count": 7,
   "metadata": {},
   "outputs": [
    {
     "name": "stdout",
     "output_type": "stream",
     "text": [
      "Dataset shapes:\n",
      "\n",
      "Train : (6264, 1024)\n",
      "Valid : (783, 1024)\n",
      "Test  : (784, 1024)\n"
     ]
    }
   ],
   "source": [
    "print('Dataset shapes:')\n",
    "print()\n",
    "print('Train :', train_dataset.X.shape)\n",
    "print('Valid :', valid_dataset.X.shape)\n",
    "print('Test  :', test_dataset.X.shape)"
   ]
  },
  {
   "cell_type": "markdown",
   "metadata": {},
   "source": [
    "## 1. Warm up\n",
    "\n",
    "Fill in the blanks in the cell below to print out the shape of the _labels_ i.e. **y** dataset of the `train_dataset`, `valid_dataset`, and `test_dataset`.\n",
    "\n",
    "__(1 mark)__"
   ]
  },
  {
   "cell_type": "code",
   "execution_count": 8,
   "metadata": {},
   "outputs": [
    {
     "name": "stdout",
     "output_type": "stream",
     "text": [
      "Dataset label shapes:\n",
      "\n"
     ]
    }
   ],
   "source": [
    "print('Dataset label shapes:')\n",
    "print()\n",
    "# **************************************************************** (1 mark)\n",
    "\n",
    "# The output should be:\n",
    "# (6264, 12)\n",
    "# (783, 12)\n",
    "# (784, 12)"
   ]
  },
  {
   "cell_type": "markdown",
   "metadata": {},
   "source": [
    "These are the 12 data point, also known as *labels*, for each sample. These correspond to the 12 tasks we discussed earlier. \n",
    "\n",
    "In this particular dataset:\n",
    "\n",
    "- The samples correspond to molecules\n",
    "- The tasks correspond to biochemical assays\n",
    "- Each label is the result of a particular assay on a particular molecule.\n",
    "\n",
    "We want our model to predict these labels."
   ]
  },
  {
   "cell_type": "markdown",
   "metadata": {},
   "source": [
    "However, ..."
   ]
  },
  {
   "cell_type": "code",
   "execution_count": 9,
   "metadata": {},
   "outputs": [
    {
     "data": {
      "text/plain": [
       "(6264, 12)"
      ]
     },
     "execution_count": 9,
     "metadata": {},
     "output_type": "execute_result"
    }
   ],
   "source": [
    "train_dataset.w.shape"
   ]
  },
  {
   "cell_type": "code",
   "execution_count": 10,
   "metadata": {},
   "outputs": [
    {
     "data": {
      "text/plain": [
       "62166"
      ]
     },
     "execution_count": 10,
     "metadata": {},
     "output_type": "execute_result"
    }
   ],
   "source": [
    "np.count_nonzero(train_dataset.w)"
   ]
  },
  {
   "cell_type": "code",
   "execution_count": 11,
   "metadata": {},
   "outputs": [
    {
     "data": {
      "text/plain": [
       "13002"
      ]
     },
     "execution_count": 11,
     "metadata": {},
     "output_type": "execute_result"
    }
   ],
   "source": [
    "np.count_nonzero(train_dataset.w == 0)"
   ]
  },
  {
   "cell_type": "markdown",
   "metadata": {},
   "source": [
    "We can observe that out of the total 6,264 * 12 = 75,168 elements in our array (table), only **62,166** were actually measured, i.e. 62,166 / 75,168 => ~82.7% of of the entire dataset.\n",
    "\n",
    "The other 75,168 - 62,166 = **13,002** values correspond to missing measurements and should be ignored for our purposes. It is common for datasets to include empty values simply for convenience, as dealing with irregular shaped arrays is significantly harder than regular matrices."
   ]
  },
  {
   "cell_type": "markdown",
   "metadata": {},
   "source": [
    "---"
   ]
  },
  {
   "cell_type": "markdown",
   "metadata": {},
   "source": [
    "DeepChem provides many *transformers*, which are objects which modify the dataset in some way. The `transformers` variable shown below is a `BalancingTransformer`."
   ]
  },
  {
   "cell_type": "code",
   "execution_count": 12,
   "metadata": {},
   "outputs": [
    {
     "data": {
      "text/plain": [
       "[<deepchem.trans.transformers.BalancingTransformer at 0x1a4a783fd0>]"
      ]
     },
     "execution_count": 12,
     "metadata": {},
     "output_type": "execute_result"
    }
   ],
   "source": [
    "transformers"
   ]
  },
  {
   "cell_type": "markdown",
   "metadata": {},
   "source": [
    "This transformer is relevant for datasets which have a high class-imbalance. For example, **90%** of the the molecules in `tox21_datasets` did not bind to most of their targets, and thus have a label of 0. \n",
    "\n",
    "This means a model could easily achieve a 90% accuracy by *always* predicting the label as 0, regardless of the input values, but would also be unequivocally useless.\n",
    "\n",
    "Which is why we use `BalancingTransformer` to transform the dataset's matrix of weights so that the total weight assigned to every class is the same. Hence, the loss function has no systematic preference for any single class, and can thus learn to correctly distinguish between classes."
   ]
  },
  {
   "cell_type": "markdown",
   "metadata": {},
   "source": [
    "---"
   ]
  },
  {
   "cell_type": "markdown",
   "metadata": {},
   "source": [
    "We build a fully connected 'multi-layered perceptron' model which maps input features to *multiple* output predictions, using the `dc.models.MultitaskClassifier()` class, which requires two parameters, `n_tasks` and `n_features`. \n",
    "\n",
    "\n",
    "In the following cell, instantiate the class with the correct parameters. Once constructed, train the model on the data.\n",
    "\n",
    "Remember, we want to train the classifier on the Tox21 *training* dataset, which we briefly explored in the pre-warmup.\n",
    "\n",
    "**(2 marks)**"
   ]
  },
  {
   "cell_type": "code",
   "execution_count": 161,
   "metadata": {},
   "outputs": [],
   "source": [
    "# **************************************************************** (2 mark)\n",
    "# model = dc.models.MultitaskClassifier(n_tasks=, n_features=)\n",
    "# model.fit(dataset=)"
   ]
  },
  {
   "cell_type": "code",
   "execution_count": 162,
   "metadata": {
    "scrolled": true
   },
   "outputs": [
    {
     "data": {
      "text/plain": [
       "0.31932042886813483"
      ]
     },
     "execution_count": 162,
     "metadata": {},
     "output_type": "execute_result"
    }
   ],
   "source": [
    "model = dc.models.MultitaskClassifier(n_tasks=12, n_features=1024)\n",
    "model.fit(dataset=train_dataset)"
   ]
  },
  {
   "cell_type": "code",
   "execution_count": 182,
   "metadata": {},
   "outputs": [],
   "source": [
    "#metric = dc.metrics.Metric(dc.metrics.roc_auc_score, np.mean)\n",
    "metric = dc.metrics.Metric(dc.metrics.accuracy_score, np.mean)\n",
    "#metric = dc.metrics.Metric(dc.metrics.precision_recall_curve, np.mean)"
   ]
  },
  {
   "cell_type": "code",
   "execution_count": 174,
   "metadata": {},
   "outputs": [
    {
     "name": "stdout",
     "output_type": "stream",
     "text": [
      "computed_metrics: [0.9479758828596038, 0.9764028242289112, 0.9083429008802143, 0.9335490830636461, 0.7004262228536635, 0.9078923604840167, 0.9501460564751704, 0.7201284796573876, 0.9568690095846646, 0.9328185328185328, 0.6918592096739365, 0.8242042931162102]\n"
     ]
    },
    {
     "data": {
      "text/plain": [
       "{'mean-accuracy_score': 0.8708845713079966}"
      ]
     },
     "execution_count": 174,
     "metadata": {},
     "output_type": "execute_result"
    }
   ],
   "source": [
    "model.evaluate(train_dataset, [metric], transformers)"
   ]
  },
  {
   "cell_type": "code",
   "execution_count": 165,
   "metadata": {},
   "outputs": [
    {
     "name": "stdout",
     "output_type": "stream",
     "text": [
      "computed_metrics: [0.9479758828596038, 0.9764028242289112, 0.9083429008802143, 0.9335490830636461, 0.7004262228536635, 0.9078923604840167, 0.9501460564751704, 0.7201284796573876, 0.9568690095846646, 0.9328185328185328, 0.6918592096739365, 0.8242042931162102]\n"
     ]
    }
   ],
   "source": [
    "train_scores = model.evaluate(train_dataset, [metric], transformers)\n",
    "valid_scores = model.evaluate(valid_dataset, [metric], transformers)\n",
    "test_scores = model.evaluate(test_dataset, [metric], transformers)"
   ]
  },
  {
   "cell_type": "code",
   "execution_count": 170,
   "metadata": {},
   "outputs": [
    {
     "name": "stdout",
     "output_type": "stream",
     "text": [
      "{'mean-accuracy_score': 0.8708845713079966}\n",
      "{'mean-accuracy_score': 0.8271924652255417}\n",
      "{'mean-accuracy_score': 0.8117946048304927}\n"
     ]
    }
   ],
   "source": [
    "print(train_scores)\n",
    "print(valid_scores)\n",
    "print(test_scores)"
   ]
  },
  {
   "cell_type": "code",
   "execution_count": 72,
   "metadata": {},
   "outputs": [],
   "source": [
    "assert(train_scores==0.9785381916127314, 'Train Score Error')\n",
    "assert(test_scores==0.7352941543057708, 'Val Score Error')\n",
    "assert(test_scores==0.7659030760081582, 'Test Score Error')"
   ]
  },
  {
   "cell_type": "markdown",
   "metadata": {},
   "source": [
    "We can observe that the ROC-AUC score is significantly higher for the train dataset, than the validation or test dataset, implying the model has trouble generalizing to unseen data, and has overfit the training data.\n",
    "\n",
    "What about other metrics ? Acc ? Recall ? Precision ? F1 ?"
   ]
  },
  {
   "cell_type": "markdown",
   "metadata": {},
   "source": [
    "### MNIST"
   ]
  },
  {
   "cell_type": "markdown",
   "metadata": {},
   "source": [
    "This time we use the `dc.models.TensorGraph` class, which provides a framework for building custom deep neural network architectures using DeepChem."
   ]
  },
  {
   "cell_type": "markdown",
   "metadata": {},
   "source": [
    "First, we download the raw MNIST data files and store them locally:"
   ]
  },
  {
   "cell_type": "code",
   "execution_count": 73,
   "metadata": {},
   "outputs": [],
   "source": [
    "mkdir MNIST_data\n",
    "cd MNIST_data"
   ]
  },
  {
   "cell_type": "code",
   "execution_count": 84,
   "metadata": {},
   "outputs": [
    {
     "name": "stdout",
     "output_type": "stream",
     "text": [
      "Warning: Failed to set locale category LC_NUMERIC to en_CH.\n",
      "Warning: Failed to set locale category LC_TIME to en_CH.\n",
      "Warning: Failed to set locale category LC_COLLATE to en_CH.\n",
      "Warning: Failed to set locale category LC_MONETARY to en_CH.\n",
      "Warning: Failed to set locale category LC_MESSAGES to en_CH.\n",
      "--2020-02-27 14:16:01--  http://yann.lecun.com/exdb/mnist/train-images-idx3-ubyte.gz\n",
      "Resolving yann.lecun.com (yann.lecun.com)... 216.165.22.6\n",
      "Connecting to yann.lecun.com (yann.lecun.com)|216.165.22.6|:80... connected.\n",
      "HTTP request sent, awaiting response... 200 OK\n",
      "Length: 9912422 (9.5M) [application/x-gzip]\n",
      "Saving to: ‘train-images-idx3-ubyte.gz’\n",
      "\n",
      "train-images-idx3-u 100%[===================>]   9.45M   962KB/s    in 15s     \n",
      "\n",
      "2020-02-27 14:16:19 (626 KB/s) - ‘train-images-idx3-ubyte.gz’ saved [9912422/9912422]\n",
      "\n"
     ]
    }
   ],
   "source": [
    "!wget http://yann.lecun.com/exdb/mnist/train-images-idx3-ubyte.gz\n",
    "!wget http://yann.lecun.com/exdb/mnist/train-labels-idx1-ubyte.gz\n",
    "!wget http://yann.lecun.com/exdb/mnist/t10k-images-idx3-ubyte.gz\n",
    "!wget http://yann.lecun.com/exdb/mnist/t10k-labels-idx1-ubyte.gz"
   ]
  },
  {
   "cell_type": "code",
   "execution_count": 96,
   "metadata": {},
   "outputs": [
    {
     "name": "stdout",
     "output_type": "stream",
     "text": [
      "/Users/eklavya/Dropbox/aCubeIT/Drug\n"
     ]
    }
   ],
   "source": [
    "cd .."
   ]
  },
  {
   "cell_type": "code",
   "execution_count": 98,
   "metadata": {},
   "outputs": [],
   "source": [
    "from tensorflow.examples.tutorials.mnist import input_data"
   ]
  },
  {
   "cell_type": "code",
   "execution_count": 99,
   "metadata": {
    "scrolled": true
   },
   "outputs": [
    {
     "name": "stdout",
     "output_type": "stream",
     "text": [
      "WARNING:tensorflow:From <ipython-input-99-a839aeb82f4b>:1: read_data_sets (from tensorflow.contrib.learn.python.learn.datasets.mnist) is deprecated and will be removed in a future version.\n",
      "Instructions for updating:\n",
      "Please use alternatives such as official/mnist/dataset.py from tensorflow/models.\n",
      "WARNING:tensorflow:From /usr/local/anaconda3/lib/python3.7/site-packages/tensorflow/contrib/learn/python/learn/datasets/mnist.py:260: maybe_download (from tensorflow.contrib.learn.python.learn.datasets.base) is deprecated and will be removed in a future version.\n",
      "Instructions for updating:\n",
      "Please write your own downloading logic.\n",
      "WARNING:tensorflow:From /usr/local/anaconda3/lib/python3.7/site-packages/tensorflow/contrib/learn/python/learn/datasets/mnist.py:262: extract_images (from tensorflow.contrib.learn.python.learn.datasets.mnist) is deprecated and will be removed in a future version.\n",
      "Instructions for updating:\n",
      "Please use tf.data to implement this functionality.\n",
      "Extracting MNIST_data/train-images-idx3-ubyte.gz\n",
      "WARNING:tensorflow:From /usr/local/anaconda3/lib/python3.7/site-packages/tensorflow/contrib/learn/python/learn/datasets/mnist.py:267: extract_labels (from tensorflow.contrib.learn.python.learn.datasets.mnist) is deprecated and will be removed in a future version.\n",
      "Instructions for updating:\n",
      "Please use tf.data to implement this functionality.\n",
      "Extracting MNIST_data/train-labels-idx1-ubyte.gz\n",
      "WARNING:tensorflow:From /usr/local/anaconda3/lib/python3.7/site-packages/tensorflow/contrib/learn/python/learn/datasets/mnist.py:110: dense_to_one_hot (from tensorflow.contrib.learn.python.learn.datasets.mnist) is deprecated and will be removed in a future version.\n",
      "Instructions for updating:\n",
      "Please use tf.one_hot on tensors.\n",
      "Extracting MNIST_data/t10k-images-idx3-ubyte.gz\n",
      "Extracting MNIST_data/t10k-labels-idx1-ubyte.gz\n",
      "WARNING:tensorflow:From /usr/local/anaconda3/lib/python3.7/site-packages/tensorflow/contrib/learn/python/learn/datasets/mnist.py:290: DataSet.__init__ (from tensorflow.contrib.learn.python.learn.datasets.mnist) is deprecated and will be removed in a future version.\n",
      "Instructions for updating:\n",
      "Please use alternatives such as official/mnist/dataset.py from tensorflow/models.\n"
     ]
    }
   ],
   "source": [
    "mnist = input_data.read_data_sets(\"MNIST_data/\", one_hot=True)"
   ]
  },
  {
   "cell_type": "code",
   "execution_count": 100,
   "metadata": {},
   "outputs": [],
   "source": [
    "import tensorflow as tf\n",
    "import deepchem.models.tensorgraph.layers as layers"
   ]
  },
  {
   "cell_type": "code",
   "execution_count": 101,
   "metadata": {},
   "outputs": [],
   "source": [
    "train_dataset = dc.data.NumpyDataset(mnist.train.images, mnist.train.labels)\n",
    "test_dataset = dc.data.NumpyDataset(mnist.test.images, mnist.test.labels)\n"
   ]
  },
  {
   "cell_type": "markdown",
   "metadata": {},
   "source": [
    "The `model_dir` parameter specifies a directory where the model's parameters should be saved."
   ]
  },
  {
   "cell_type": "code",
   "execution_count": 127,
   "metadata": {},
   "outputs": [],
   "source": [
    "# Get the model's parameters\n",
    "model = dc.models.TensorGraph(model_dir='mnist')"
   ]
  },
  {
   "cell_type": "code",
   "execution_count": 128,
   "metadata": {},
   "outputs": [],
   "source": [
    "# Define shapes of features and labels\n",
    "feature = layers.Feature(shape=(None, 784))\n",
    "label = layers.Label(shape=(None, 10))"
   ]
  },
  {
   "cell_type": "code",
   "execution_count": 129,
   "metadata": {},
   "outputs": [],
   "source": [
    "# Reshape (?)\n",
    "make_image = layers.Reshape(shape=(None, 28, 28), in_layers=feature)"
   ]
  },
  {
   "cell_type": "code",
   "execution_count": 130,
   "metadata": {},
   "outputs": [],
   "source": [
    "# Layers of our NN\n",
    "conv2d_1 = layers.Conv2D(num_outputs=32, activation_fn=tf.nn.relu, in_layers=make_image)\n",
    "conv2d_2 = layers.Conv2D(num_outputs=64, activation_fn=tf.nn.relu, in_layers=conv2d_1)\n",
    "flatten  = layers.Flatten(in_layers=conv2d_2)\n",
    "dense1   = layers.Dense(out_channels=1024, activation_fn=tf.nn.relu, in_layers=flatten)\n",
    "dense2   = layers.Dense(out_channels=10, activation_fn=None, in_layers=dense1)"
   ]
  },
  {
   "cell_type": "code",
   "execution_count": 131,
   "metadata": {},
   "outputs": [],
   "source": [
    "# Softmax cross-entropy loss\n",
    "smce = layers.SoftMaxCrossEntropy(in_layers=[label, dense2])\n",
    "loss = layers.ReduceMean(in_layers=smce)\n",
    "model.set_loss(loss)"
   ]
  },
  {
   "cell_type": "code",
   "execution_count": 132,
   "metadata": {},
   "outputs": [],
   "source": [
    "# Output\n",
    "output = layers.SoftMax(in_layers=dense2)\n",
    "model.add_output(output)"
   ]
  },
  {
   "cell_type": "code",
   "execution_count": 133,
   "metadata": {},
   "outputs": [
    {
     "data": {
      "text/plain": [
       "0.11292030922221867"
      ]
     },
     "execution_count": 133,
     "metadata": {},
     "output_type": "execute_result"
    }
   ],
   "source": [
    "# Fit\n",
    "model.fit(train_dataset, nb_epoch=1)"
   ]
  },
  {
   "cell_type": "code",
   "execution_count": 136,
   "metadata": {},
   "outputs": [],
   "source": [
    "metric = dc.metrics.Metric(dc.metrics.accuracy_score)"
   ]
  },
  {
   "cell_type": "code",
   "execution_count": 135,
   "metadata": {},
   "outputs": [
    {
     "name": "stdout",
     "output_type": "stream",
     "text": [
      "computed_metrics: [0.2106909090909091]\n",
      "computed_metrics: [0.2111]\n"
     ]
    }
   ],
   "source": [
    "train_scores = model.evaluate(train_dataset, [metric])\n",
    "test_scores = model.evaluate(test_dataset, [metric])"
   ]
  },
  {
   "cell_type": "code",
   "execution_count": 137,
   "metadata": {},
   "outputs": [
    {
     "name": "stdout",
     "output_type": "stream",
     "text": [
      "{'accuracy_score': 0.2106909090909091}\n",
      "{'accuracy_score': 0.2111}\n"
     ]
    }
   ],
   "source": [
    "print(train_scores)\n",
    "print(test_scores)"
   ]
  },
  {
   "cell_type": "markdown",
   "metadata": {},
   "source": [
    "## Featurizing Molecules"
   ]
  },
  {
   "cell_type": "markdown",
   "metadata": {},
   "source": [
    "Below we explore some different ways of featurizing molecules into data usable for machine learning."
   ]
  },
  {
   "cell_type": "code",
   "execution_count": 16,
   "metadata": {},
   "outputs": [],
   "source": [
    "from rdkit import Chem"
   ]
  },
  {
   "cell_type": "markdown",
   "metadata": {},
   "source": [
    "#### 1. SMILES"
   ]
  },
  {
   "cell_type": "code",
   "execution_count": 81,
   "metadata": {},
   "outputs": [
    {
     "name": "stdout",
     "output_type": "stream",
     "text": [
      "['C1CCCCC1', 'O1CCOCC1']\n"
     ]
    }
   ],
   "source": [
    "# We define two molecules - Cyclohexane and Dioxane - as SMILE strings\n",
    "smiles = ['C1CCCCC1', 'O1CCOCC1']\n",
    "print(smiles)"
   ]
  },
  {
   "cell_type": "markdown",
   "metadata": {},
   "source": [
    "#### 2. Extended-Connectivity Fingerprints"
   ]
  },
  {
   "cell_type": "code",
   "execution_count": 82,
   "metadata": {},
   "outputs": [],
   "source": [
    "# Convert from SMILE strings to chemical molecules using rdkit\n",
    "mols = [Chem.MolFromSmiles(smile) for smile in smiles] "
   ]
  },
  {
   "cell_type": "code",
   "execution_count": 29,
   "metadata": {},
   "outputs": [
    {
     "data": {
      "image/png": "[encoded data removed]",
      "text/plain": [
       "<rdkit.Chem.rdchem.Mol at 0x1c4d7f7a80>"
      ]
     },
     "execution_count": 29,
     "metadata": {},
     "output_type": "execute_result"
    }
   ],
   "source": [
    "# Visualize\n",
    "mols[0]"
   ]
  },
  {
   "cell_type": "code",
   "execution_count": 30,
   "metadata": {},
   "outputs": [
    {
     "data": {
      "image/png": "[encoded data removed]",
      "text/plain": [
       "<rdkit.Chem.rdchem.Mol at 0x1c4d7f7df0>"
      ]
     },
     "execution_count": 30,
     "metadata": {},
     "output_type": "execute_result"
    }
   ],
   "source": [
    "mols[1]"
   ]
  },
  {
   "cell_type": "code",
   "execution_count": 69,
   "metadata": {},
   "outputs": [
    {
     "name": "stdout",
     "output_type": "stream",
     "text": [
      "<deepchem.feat.fingerprints.CircularFingerprint object at 0x1c4dfd5b50>\n"
     ]
    }
   ],
   "source": [
    "# Instanstiate a circular fingerprint featurizer \n",
    "feat = dc.feat.CircularFingerprint(size=1024)\n",
    "print(feat)"
   ]
  },
  {
   "cell_type": "code",
   "execution_count": 70,
   "metadata": {},
   "outputs": [
    {
     "name": "stdout",
     "output_type": "stream",
     "text": [
      "Array shape: (2, 1024)\n",
      "\n",
      "[[0 0 1 ... 0 0 0]\n",
      " [0 0 0 ... 0 0 0]]\n"
     ]
    }
   ],
   "source": [
    "# Use chosen featurizer to featurize the defined molecules into array of binary vectors aka 'fingerprints'\n",
    "arr = feat.featurize(mols)\n",
    "print('Array shape:', arr.shape)\n",
    "print()\n",
    "print(arr)"
   ]
  },
  {
   "cell_type": "code",
   "execution_count": 57,
   "metadata": {},
   "outputs": [
    {
     "name": "stdout",
     "output_type": "stream",
     "text": [
      "Smiles:       \t C1CCCCC1\n",
      "Molecules:    \t <rdkit.Chem.rdchem.Mol object at 0x1c4d7f7a80>\n",
      "Featurizer:   \t <deepchem.feat.fingerprints.CircularFingerprint object at 0x1c4d7ea8d0>\n",
      "Fingerprints: \t [0 0 1 ... 0 0 0]\n"
     ]
    }
   ],
   "source": [
    "print('Smiles:       \\t', smiles[0])\n",
    "print('Molecules:    \\t', mols[0])\n",
    "print('Featurizer:   \\t', feat)\n",
    "print('Fingerprints: \\t', arr[0])"
   ]
  },
  {
   "cell_type": "markdown",
   "metadata": {},
   "source": [
    "A fingerprint encodes a lot of information about the molecule, however it has one major pitfall:\n",
    "\n",
    "It is possible for two *different* molecules to have **identical fingerprints**. Therefore, when given a fingerprint, it is impossible to *uniquely determine* what molecule it came from."
   ]
  },
  {
   "cell_type": "markdown",
   "metadata": {},
   "source": [
    "#### 2. Molecular Descriptors"
   ]
  },
  {
   "cell_type": "code",
   "execution_count": 73,
   "metadata": {},
   "outputs": [],
   "source": [
    "# Instanstiate a molecular description featurizer\n",
    "feat = dc.feat.RDKitDescriptors()"
   ]
  },
  {
   "cell_type": "code",
   "execution_count": 75,
   "metadata": {},
   "outputs": [
    {
     "name": "stdout",
     "output_type": "stream",
     "text": [
      "(2, 111)\n"
     ]
    }
   ],
   "source": [
    "# Use chosen featurizer to featurize molecules into array containing chemical/physical properties of the molecules\n",
    "arr = feat.featurize(mols)\n",
    "print(arr.shape)"
   ]
  },
  {
   "cell_type": "code",
   "execution_count": 80,
   "metadata": {},
   "outputs": [
    {
     "name": "stdout",
     "output_type": "stream",
     "text": [
      "[ 1.50000000e+00  1.50000000e+00  1.50000000e+00  1.50000000e+00\n",
      "  8.41620000e+01  7.20660000e+01  8.40939004e+01  3.60000000e+01\n",
      "  0.00000000e+00 -5.33059728e-02]\n"
     ]
    }
   ],
   "source": [
    "# Note that these are different from the binary 'fingerprint' vectors from earlier,\n",
    "# as these represent the actual physical descriptors on the molecules\n",
    "print(arr[0][:10])"
   ]
  },
  {
   "cell_type": "code",
   "execution_count": null,
   "metadata": {},
   "outputs": [],
   "source": []
  }
 ],
 "metadata": {
  "kernelspec": {
   "display_name": "Python 3",
   "language": "python",
   "name": "python3"
  },
  "language_info": {
   "codemirror_mode": {
    "name": "ipython",
    "version": 3
   },
   "file_extension": ".py",
   "mimetype": "text/x-python",
   "name": "python",
   "nbconvert_exporter": "python",
   "pygments_lexer": "ipython3",
   "version": "3.7.4"
  }
 },
 "nbformat": 4,
 "nbformat_minor": 2
}
